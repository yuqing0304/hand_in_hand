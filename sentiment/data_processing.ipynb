{
 "cells": [
  {
   "cell_type": "markdown",
   "metadata": {},
   "source": [
    "# Sentiment Analysis"
   ]
  },
  {
   "cell_type": "markdown",
   "metadata": {},
   "source": [
    "## Exploratory Data Analysis and Preprocessing"
   ]
  },
  {
   "cell_type": "code",
   "execution_count": 1,
   "metadata": {},
   "outputs": [],
   "source": [
    "import pandas as pd\n",
    "import os\n",
    "import re"
   ]
  },
  {
   "cell_type": "code",
   "execution_count": 2,
   "metadata": {
    "scrolled": true
   },
   "outputs": [],
   "source": [
    "path = \"/Users/yqz088/Downloads/ml/dataset\"\n",
    "\n",
    "train_neg = os.path.join(path, \"train/neg\")\n",
    "train_pos = os.path.join(path, \"train/pos\")\n",
    "\n",
    "test_neg = os.path.join(path, \"test/neg\")\n",
    "test_pos = os.path.join(path, \"test/pos\")\n",
    "\n",
    "directory1 = [train_neg, train_pos]\n",
    "directory2 = [test_neg, test_pos]\n",
    "\n",
    "def format_data(directories):\n",
    "    text_id = []\n",
    "    text = []\n",
    "    category = []\n",
    "    score = []\n",
    "        \n",
    "    for directory in directories:\n",
    "        files = os.listdir(directory)\n",
    "        files.sort(key=lambda x: int(x.split('_')[0]))\n",
    "\n",
    "        for file in files:\n",
    "            if directory.endswith(\"neg\"):\n",
    "                id = \"neg_\" + file\n",
    "                cat = \"negative\"\n",
    "                degree = re.search(\"neg_[0-9]+_([0-9])\", id)\n",
    "            else:\n",
    "                id = \"pos_\" + file\n",
    "                cat = \"positive\"\n",
    "                degree = re.search(\"pos_[0-9]+_([0-9]+)\", id)\n",
    "\n",
    "            path = os.path.join(directory, file)\n",
    "            fhand = open(path)\n",
    "            inp = fhand.read()\n",
    "\n",
    "            text_id.append(id)\n",
    "            text.append(inp)\n",
    "            category.append(cat)\n",
    "            score.append(degree.group(1))\n",
    "\n",
    "    data = {\"id\": text_id, \"review\": text, \"sentiment\": category, \"score\": score}\n",
    "\n",
    "    return data\n",
    "        \n",
    "train_formated = format_data(directory1) \n",
    "test_formated = format_data(directory2) \n",
    "\n",
    "df_train = pd.DataFrame(train_formated) \n",
    "df_test = pd.DataFrame(test_formated) \n",
    "\n",
    "df_train.set_index('id', inplace=True)\n",
    "df_test.set_index('id', inplace=True)\n",
    "\n",
    "# df_train.head()\n",
    "# df_test.head()"
   ]
  },
  {
   "cell_type": "code",
   "execution_count": 3,
   "metadata": {},
   "outputs": [
    {
     "data": {
      "text/plain": [
       "positive    12500\n",
       "negative    12500\n",
       "Name: sentiment, dtype: int64"
      ]
     },
     "execution_count": 3,
     "metadata": {},
     "output_type": "execute_result"
    }
   ],
   "source": [
    "df_train.sentiment.value_counts()"
   ]
  },
  {
   "cell_type": "code",
   "execution_count": 4,
   "metadata": {
    "scrolled": true
   },
   "outputs": [
    {
     "data": {
      "text/plain": [
       "1     5100\n",
       "10    4732\n",
       "8     3009\n",
       "4     2696\n",
       "7     2496\n",
       "3     2420\n",
       "2     2284\n",
       "9     2263\n",
       "Name: score, dtype: int64"
      ]
     },
     "execution_count": 4,
     "metadata": {},
     "output_type": "execute_result"
    }
   ],
   "source": [
    "df_train.score.value_counts()"
   ]
  },
  {
   "cell_type": "code",
   "execution_count": 5,
   "metadata": {},
   "outputs": [],
   "source": [
    "possible_labels = df_train.sentiment.unique()"
   ]
  },
  {
   "cell_type": "code",
   "execution_count": 6,
   "metadata": {},
   "outputs": [],
   "source": [
    "label_dict = {}\n",
    "for index, possible_label in enumerate(possible_labels):\n",
    "    label_dict[possible_label] = index"
   ]
  },
  {
   "cell_type": "code",
   "execution_count": 7,
   "metadata": {},
   "outputs": [
    {
     "data": {
      "text/plain": [
       "{'negative': 0, 'positive': 1}"
      ]
     },
     "execution_count": 7,
     "metadata": {},
     "output_type": "execute_result"
    }
   ],
   "source": [
    "label_dict"
   ]
  },
  {
   "cell_type": "code",
   "execution_count": 8,
   "metadata": {},
   "outputs": [],
   "source": [
    "df_train['label'] = df_train.sentiment.replace(label_dict)"
   ]
  },
  {
   "cell_type": "code",
   "execution_count": 9,
   "metadata": {
    "scrolled": false
   },
   "outputs": [
    {
     "data": {
      "text/html": [
       "<div>\n",
       "<style scoped>\n",
       "    .dataframe tbody tr th:only-of-type {\n",
       "        vertical-align: middle;\n",
       "    }\n",
       "\n",
       "    .dataframe tbody tr th {\n",
       "        vertical-align: top;\n",
       "    }\n",
       "\n",
       "    .dataframe thead th {\n",
       "        text-align: right;\n",
       "    }\n",
       "</style>\n",
       "<table border=\"1\" class=\"dataframe\">\n",
       "  <thead>\n",
       "    <tr style=\"text-align: right;\">\n",
       "      <th></th>\n",
       "      <th>review</th>\n",
       "      <th>sentiment</th>\n",
       "      <th>score</th>\n",
       "      <th>label</th>\n",
       "    </tr>\n",
       "    <tr>\n",
       "      <th>id</th>\n",
       "      <th></th>\n",
       "      <th></th>\n",
       "      <th></th>\n",
       "      <th></th>\n",
       "    </tr>\n",
       "  </thead>\n",
       "  <tbody>\n",
       "    <tr>\n",
       "      <th>neg_0_3.txt</th>\n",
       "      <td>Story of a man who has unnatural feelings for ...</td>\n",
       "      <td>negative</td>\n",
       "      <td>3</td>\n",
       "      <td>0</td>\n",
       "    </tr>\n",
       "    <tr>\n",
       "      <th>neg_1_1.txt</th>\n",
       "      <td>Robert DeNiro plays the most unbelievably inte...</td>\n",
       "      <td>negative</td>\n",
       "      <td>1</td>\n",
       "      <td>0</td>\n",
       "    </tr>\n",
       "    <tr>\n",
       "      <th>neg_2_1.txt</th>\n",
       "      <td>I saw the capsule comment said \"great acting.\"...</td>\n",
       "      <td>negative</td>\n",
       "      <td>1</td>\n",
       "      <td>0</td>\n",
       "    </tr>\n",
       "    <tr>\n",
       "      <th>neg_3_4.txt</th>\n",
       "      <td>If I had not read Pat Barker's 'Union Street' ...</td>\n",
       "      <td>negative</td>\n",
       "      <td>4</td>\n",
       "      <td>0</td>\n",
       "    </tr>\n",
       "    <tr>\n",
       "      <th>neg_4_4.txt</th>\n",
       "      <td>This fanciful horror flick has Vincent Price p...</td>\n",
       "      <td>negative</td>\n",
       "      <td>4</td>\n",
       "      <td>0</td>\n",
       "    </tr>\n",
       "  </tbody>\n",
       "</table>\n",
       "</div>"
      ],
      "text/plain": [
       "                                                        review sentiment  \\\n",
       "id                                                                         \n",
       "neg_0_3.txt  Story of a man who has unnatural feelings for ...  negative   \n",
       "neg_1_1.txt  Robert DeNiro plays the most unbelievably inte...  negative   \n",
       "neg_2_1.txt  I saw the capsule comment said \"great acting.\"...  negative   \n",
       "neg_3_4.txt  If I had not read Pat Barker's 'Union Street' ...  negative   \n",
       "neg_4_4.txt  This fanciful horror flick has Vincent Price p...  negative   \n",
       "\n",
       "            score  label  \n",
       "id                        \n",
       "neg_0_3.txt     3      0  \n",
       "neg_1_1.txt     1      0  \n",
       "neg_2_1.txt     1      0  \n",
       "neg_3_4.txt     4      0  \n",
       "neg_4_4.txt     4      0  "
      ]
     },
     "execution_count": 9,
     "metadata": {},
     "output_type": "execute_result"
    }
   ],
   "source": [
    "df_train.head()"
   ]
  },
  {
   "cell_type": "code",
   "execution_count": 10,
   "metadata": {},
   "outputs": [
    {
     "data": {
      "text/plain": [
       "positive    12500\n",
       "negative    12500\n",
       "Name: sentiment, dtype: int64"
      ]
     },
     "execution_count": 10,
     "metadata": {},
     "output_type": "execute_result"
    }
   ],
   "source": [
    "df_test.sentiment.value_counts()"
   ]
  },
  {
   "cell_type": "code",
   "execution_count": 11,
   "metadata": {},
   "outputs": [
    {
     "data": {
      "text/plain": [
       "1     5022\n",
       "10    4999\n",
       "8     2850\n",
       "4     2635\n",
       "3     2541\n",
       "9     2344\n",
       "7     2307\n",
       "2     2302\n",
       "Name: score, dtype: int64"
      ]
     },
     "execution_count": 11,
     "metadata": {},
     "output_type": "execute_result"
    }
   ],
   "source": [
    "df_test.score.value_counts()"
   ]
  },
  {
   "cell_type": "code",
   "execution_count": 12,
   "metadata": {},
   "outputs": [],
   "source": [
    "possible_labels2 = df_test.sentiment.unique()"
   ]
  },
  {
   "cell_type": "code",
   "execution_count": 13,
   "metadata": {},
   "outputs": [],
   "source": [
    "label_dict2 = {}\n",
    "for index, possible_label in enumerate(possible_labels2):\n",
    "    label_dict2[possible_label] = index"
   ]
  },
  {
   "cell_type": "code",
   "execution_count": 14,
   "metadata": {},
   "outputs": [
    {
     "data": {
      "text/plain": [
       "{'negative': 0, 'positive': 1}"
      ]
     },
     "execution_count": 14,
     "metadata": {},
     "output_type": "execute_result"
    }
   ],
   "source": [
    "label_dict2"
   ]
  },
  {
   "cell_type": "code",
   "execution_count": 15,
   "metadata": {},
   "outputs": [],
   "source": [
    "df_test['label'] = df_test.sentiment.replace(label_dict2)"
   ]
  },
  {
   "cell_type": "code",
   "execution_count": 16,
   "metadata": {},
   "outputs": [
    {
     "data": {
      "text/html": [
       "<div>\n",
       "<style scoped>\n",
       "    .dataframe tbody tr th:only-of-type {\n",
       "        vertical-align: middle;\n",
       "    }\n",
       "\n",
       "    .dataframe tbody tr th {\n",
       "        vertical-align: top;\n",
       "    }\n",
       "\n",
       "    .dataframe thead th {\n",
       "        text-align: right;\n",
       "    }\n",
       "</style>\n",
       "<table border=\"1\" class=\"dataframe\">\n",
       "  <thead>\n",
       "    <tr style=\"text-align: right;\">\n",
       "      <th></th>\n",
       "      <th>review</th>\n",
       "      <th>sentiment</th>\n",
       "      <th>score</th>\n",
       "      <th>label</th>\n",
       "    </tr>\n",
       "    <tr>\n",
       "      <th>id</th>\n",
       "      <th></th>\n",
       "      <th></th>\n",
       "      <th></th>\n",
       "      <th></th>\n",
       "    </tr>\n",
       "  </thead>\n",
       "  <tbody>\n",
       "    <tr>\n",
       "      <th>neg_0_2.txt</th>\n",
       "      <td>Once again Mr. Costner has dragged out a movie...</td>\n",
       "      <td>negative</td>\n",
       "      <td>2</td>\n",
       "      <td>0</td>\n",
       "    </tr>\n",
       "    <tr>\n",
       "      <th>neg_1_3.txt</th>\n",
       "      <td>This is a pale imitation of 'Officer and a Gen...</td>\n",
       "      <td>negative</td>\n",
       "      <td>3</td>\n",
       "      <td>0</td>\n",
       "    </tr>\n",
       "    <tr>\n",
       "      <th>neg_2_3.txt</th>\n",
       "      <td>It seems ever since 1982, about every two or t...</td>\n",
       "      <td>negative</td>\n",
       "      <td>3</td>\n",
       "      <td>0</td>\n",
       "    </tr>\n",
       "    <tr>\n",
       "      <th>neg_3_4.txt</th>\n",
       "      <td>Wow, another Kevin Costner hero movie. Postman...</td>\n",
       "      <td>negative</td>\n",
       "      <td>4</td>\n",
       "      <td>0</td>\n",
       "    </tr>\n",
       "    <tr>\n",
       "      <th>neg_4_4.txt</th>\n",
       "      <td>Alas, another Costner movie that was an hour t...</td>\n",
       "      <td>negative</td>\n",
       "      <td>4</td>\n",
       "      <td>0</td>\n",
       "    </tr>\n",
       "  </tbody>\n",
       "</table>\n",
       "</div>"
      ],
      "text/plain": [
       "                                                        review sentiment  \\\n",
       "id                                                                         \n",
       "neg_0_2.txt  Once again Mr. Costner has dragged out a movie...  negative   \n",
       "neg_1_3.txt  This is a pale imitation of 'Officer and a Gen...  negative   \n",
       "neg_2_3.txt  It seems ever since 1982, about every two or t...  negative   \n",
       "neg_3_4.txt  Wow, another Kevin Costner hero movie. Postman...  negative   \n",
       "neg_4_4.txt  Alas, another Costner movie that was an hour t...  negative   \n",
       "\n",
       "            score  label  \n",
       "id                        \n",
       "neg_0_2.txt     2      0  \n",
       "neg_1_3.txt     3      0  \n",
       "neg_2_3.txt     3      0  \n",
       "neg_3_4.txt     4      0  \n",
       "neg_4_4.txt     4      0  "
      ]
     },
     "execution_count": 16,
     "metadata": {},
     "output_type": "execute_result"
    }
   ],
   "source": [
    "df_test.head()"
   ]
  },
  {
   "cell_type": "code",
   "execution_count": 17,
   "metadata": {},
   "outputs": [],
   "source": [
    "df_train.to_csv(\"train.csv\")\n",
    "df_test.to_csv(\"test.csv\")"
   ]
  }
 ],
 "metadata": {
  "kernelspec": {
   "display_name": "Python 3",
   "language": "python",
   "name": "python3"
  },
  "language_info": {
   "codemirror_mode": {
    "name": "ipython",
    "version": 3
   },
   "file_extension": ".py",
   "mimetype": "text/x-python",
   "name": "python",
   "nbconvert_exporter": "python",
   "pygments_lexer": "ipython3",
   "version": "3.7.3"
  },
  "latex_envs": {
   "LaTeX_envs_menu_present": true,
   "autoclose": false,
   "autocomplete": true,
   "bibliofile": "biblio.bib",
   "cite_by": "apalike",
   "current_citInitial": 1,
   "eqLabelWithNumbers": true,
   "eqNumInitial": 1,
   "hotkeys": {
    "equation": "Ctrl-E",
    "itemize": "Ctrl-I"
   },
   "labels_anchors": false,
   "latex_user_defs": false,
   "report_style_numbering": false,
   "user_envs_cfg": false
  }
 },
 "nbformat": 4,
 "nbformat_minor": 2
}
